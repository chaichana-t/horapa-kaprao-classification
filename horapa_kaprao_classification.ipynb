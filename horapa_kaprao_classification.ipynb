{
  "nbformat": 4,
  "nbformat_minor": 0,
  "metadata": {
    "colab": {
      "name": "horapa-kaprao-classification.ipynb",
      "provenance": []
    },
    "kernelspec": {
      "name": "python3",
      "display_name": "Python 3"
    },
    "language_info": {
      "name": "python"
    },
    "accelerator": "GPU"
  },
  "cells": [
    {
      "cell_type": "code",
      "source": [
        "!git clone https://github.com/TAUTOLOGY-EDUCATION/DATASET.git"
      ],
      "metadata": {
        "colab": {
          "base_uri": "https://localhost:8080/"
        },
        "id": "sBwlBIzeRCnE",
        "outputId": "594115ac-9774-41ce-bf82-28c03c45017e"
      },
      "execution_count": 1,
      "outputs": [
        {
          "output_type": "stream",
          "name": "stdout",
          "text": [
            "Cloning into 'DATASET'...\n",
            "remote: Enumerating objects: 561, done.\u001b[K\n",
            "remote: Counting objects: 100% (102/102), done.\u001b[K\n",
            "remote: Compressing objects: 100% (97/97), done.\u001b[K\n",
            "remote: Total 561 (delta 5), reused 100 (delta 4), pack-reused 459\u001b[K\n",
            "Receiving objects: 100% (561/561), 1.93 GiB | 43.31 MiB/s, done.\n",
            "Resolving deltas: 100% (6/6), done.\n",
            "Checking out files: 100% (540/540), done.\n"
          ]
        }
      ]
    },
    {
      "cell_type": "code",
      "source": [
        "!pip install timm"
      ],
      "metadata": {
        "colab": {
          "base_uri": "https://localhost:8080/"
        },
        "id": "EcME9XuSRwQV",
        "outputId": "f614afc6-0b44-4489-b01e-18f1cb28ca69"
      },
      "execution_count": 2,
      "outputs": [
        {
          "output_type": "stream",
          "name": "stdout",
          "text": [
            "Collecting timm\n",
            "  Downloading timm-0.5.4-py3-none-any.whl (431 kB)\n",
            "\u001b[?25l\r\u001b[K     |▊                               | 10 kB 28.6 MB/s eta 0:00:01\r\u001b[K     |█▌                              | 20 kB 35.8 MB/s eta 0:00:01\r\u001b[K     |██▎                             | 30 kB 30.5 MB/s eta 0:00:01\r\u001b[K     |███                             | 40 kB 20.9 MB/s eta 0:00:01\r\u001b[K     |███▉                            | 51 kB 18.3 MB/s eta 0:00:01\r\u001b[K     |████▋                           | 61 kB 21.1 MB/s eta 0:00:01\r\u001b[K     |█████▎                          | 71 kB 20.2 MB/s eta 0:00:01\r\u001b[K     |██████                          | 81 kB 22.0 MB/s eta 0:00:01\r\u001b[K     |██████▉                         | 92 kB 24.0 MB/s eta 0:00:01\r\u001b[K     |███████▋                        | 102 kB 24.5 MB/s eta 0:00:01\r\u001b[K     |████████▍                       | 112 kB 24.5 MB/s eta 0:00:01\r\u001b[K     |█████████▏                      | 122 kB 24.5 MB/s eta 0:00:01\r\u001b[K     |█████████▉                      | 133 kB 24.5 MB/s eta 0:00:01\r\u001b[K     |██████████▋                     | 143 kB 24.5 MB/s eta 0:00:01\r\u001b[K     |███████████▍                    | 153 kB 24.5 MB/s eta 0:00:01\r\u001b[K     |████████████▏                   | 163 kB 24.5 MB/s eta 0:00:01\r\u001b[K     |█████████████                   | 174 kB 24.5 MB/s eta 0:00:01\r\u001b[K     |█████████████▊                  | 184 kB 24.5 MB/s eta 0:00:01\r\u001b[K     |██████████████▍                 | 194 kB 24.5 MB/s eta 0:00:01\r\u001b[K     |███████████████▏                | 204 kB 24.5 MB/s eta 0:00:01\r\u001b[K     |████████████████                | 215 kB 24.5 MB/s eta 0:00:01\r\u001b[K     |████████████████▊               | 225 kB 24.5 MB/s eta 0:00:01\r\u001b[K     |█████████████████▌              | 235 kB 24.5 MB/s eta 0:00:01\r\u001b[K     |██████████████████▎             | 245 kB 24.5 MB/s eta 0:00:01\r\u001b[K     |███████████████████             | 256 kB 24.5 MB/s eta 0:00:01\r\u001b[K     |███████████████████▊            | 266 kB 24.5 MB/s eta 0:00:01\r\u001b[K     |████████████████████▌           | 276 kB 24.5 MB/s eta 0:00:01\r\u001b[K     |█████████████████████▎          | 286 kB 24.5 MB/s eta 0:00:01\r\u001b[K     |██████████████████████          | 296 kB 24.5 MB/s eta 0:00:01\r\u001b[K     |██████████████████████▉         | 307 kB 24.5 MB/s eta 0:00:01\r\u001b[K     |███████████████████████▌        | 317 kB 24.5 MB/s eta 0:00:01\r\u001b[K     |████████████████████████▎       | 327 kB 24.5 MB/s eta 0:00:01\r\u001b[K     |█████████████████████████       | 337 kB 24.5 MB/s eta 0:00:01\r\u001b[K     |█████████████████████████▉      | 348 kB 24.5 MB/s eta 0:00:01\r\u001b[K     |██████████████████████████▋     | 358 kB 24.5 MB/s eta 0:00:01\r\u001b[K     |███████████████████████████▍    | 368 kB 24.5 MB/s eta 0:00:01\r\u001b[K     |████████████████████████████    | 378 kB 24.5 MB/s eta 0:00:01\r\u001b[K     |████████████████████████████▉   | 389 kB 24.5 MB/s eta 0:00:01\r\u001b[K     |█████████████████████████████▋  | 399 kB 24.5 MB/s eta 0:00:01\r\u001b[K     |██████████████████████████████▍ | 409 kB 24.5 MB/s eta 0:00:01\r\u001b[K     |███████████████████████████████▏| 419 kB 24.5 MB/s eta 0:00:01\r\u001b[K     |████████████████████████████████| 430 kB 24.5 MB/s eta 0:00:01\r\u001b[K     |████████████████████████████████| 431 kB 24.5 MB/s \n",
            "\u001b[?25hRequirement already satisfied: torchvision in /usr/local/lib/python3.7/dist-packages (from timm) (0.12.0+cu113)\n",
            "Requirement already satisfied: torch>=1.4 in /usr/local/lib/python3.7/dist-packages (from timm) (1.11.0+cu113)\n",
            "Requirement already satisfied: typing-extensions in /usr/local/lib/python3.7/dist-packages (from torch>=1.4->timm) (4.2.0)\n",
            "Requirement already satisfied: numpy in /usr/local/lib/python3.7/dist-packages (from torchvision->timm) (1.21.6)\n",
            "Requirement already satisfied: pillow!=8.3.*,>=5.3.0 in /usr/local/lib/python3.7/dist-packages (from torchvision->timm) (7.1.2)\n",
            "Requirement already satisfied: requests in /usr/local/lib/python3.7/dist-packages (from torchvision->timm) (2.23.0)\n",
            "Requirement already satisfied: certifi>=2017.4.17 in /usr/local/lib/python3.7/dist-packages (from requests->torchvision->timm) (2021.10.8)\n",
            "Requirement already satisfied: urllib3!=1.25.0,!=1.25.1,<1.26,>=1.21.1 in /usr/local/lib/python3.7/dist-packages (from requests->torchvision->timm) (1.24.3)\n",
            "Requirement already satisfied: idna<3,>=2.5 in /usr/local/lib/python3.7/dist-packages (from requests->torchvision->timm) (2.10)\n",
            "Requirement already satisfied: chardet<4,>=3.0.2 in /usr/local/lib/python3.7/dist-packages (from requests->torchvision->timm) (3.0.4)\n",
            "Installing collected packages: timm\n",
            "Successfully installed timm-0.5.4\n"
          ]
        }
      ]
    },
    {
      "cell_type": "code",
      "execution_count": 33,
      "metadata": {
        "id": "YSCKDy9kQ9FW"
      },
      "outputs": [],
      "source": [
        "import os\n",
        "import pandas as pd\n",
        "import numpy as np\n",
        "import cv2\n",
        "from PIL import Image\n",
        "import matplotlib.pyplot as plt\n",
        "import seaborn as sns\n",
        "\n",
        "from sklearn.model_selection import train_test_split\n",
        "from sklearn.metrics import classification_report, confusion_matrix\n",
        "import albumentations\n",
        "import albumentations.pytorch\n",
        "import torch\n",
        "from torch import nn\n",
        "from torch.utils.data import Dataset, DataLoader\n",
        "import timm\n",
        "from tqdm import tqdm"
      ]
    },
    {
      "cell_type": "code",
      "source": [
        "random_state=32\n",
        "sns.set_theme(color_codes=True)"
      ],
      "metadata": {
        "id": "YG5D5Q0NWIFi"
      },
      "execution_count": 34,
      "outputs": []
    },
    {
      "cell_type": "markdown",
      "source": [
        "# Configuration"
      ],
      "metadata": {
        "id": "Y3FESMaLiv2b"
      }
    },
    {
      "cell_type": "code",
      "source": [
        "class config:\n",
        "\n",
        "    data_dir = './DATASET/HorapaVsKaprao'\n",
        "\n",
        "    classes = ['horapa', 'kaprao']\n",
        "    num_classes = len(classes)\n",
        "\n",
        "    mean_imagenet = (0.485, 0.456, 0.406)\n",
        "    std_imagenet  = (0.229, 0.224, 0.225)\n",
        "\n",
        "    model_name = 'tf_efficientnetv2_s'\n",
        "\n",
        "    if model_name == 'tf_efficientnetv2_s':\n",
        "        image_size = 300\n",
        "    elif model_name in ['tf_efficientnetv2_m', 'tf_efficientnetv2_l']:\n",
        "        # image_size = 384\n",
        "        image_size = 224\n",
        "    elif model_name == 'tf_efficientnetv2_b3':\n",
        "        image_size = 240\n",
        "    elif model_name in ['convnext_large_in22k', 'convnext_xlarge_in22k']:\n",
        "        image_size = 224\n",
        "    elif model_name == 'vit_base_patch16_224':\n",
        "        image_size = 224\n",
        "\n",
        "    batch_size = 16\n",
        "\n",
        "    lr = 0.00005\n",
        "    gamma = 0.97"
      ],
      "metadata": {
        "id": "37LpTkXhVJf0"
      },
      "execution_count": 27,
      "outputs": []
    },
    {
      "cell_type": "markdown",
      "source": [
        "# Dataset"
      ],
      "metadata": {
        "id": "WYwPYgoMTZSb"
      }
    },
    {
      "cell_type": "code",
      "source": [
        "class HorapaKapraoDataset(Dataset):\n",
        "\n",
        "    def __init__(self, image_paths, labels, image_size=224, dataset='train', transform=None):\n",
        "        self.image_paths = image_paths\n",
        "        self.labels = labels\n",
        "        self.image_size = image_size\n",
        "        self.dataset = dataset\n",
        "\n",
        "        if transform == None:\n",
        "            self.transform = self.get_transform()\n",
        "        else:\n",
        "            self.transform = transform\n",
        "    \n",
        "    def __len__(self):\n",
        "        return len(self.image_paths)\n",
        "\n",
        "    def __getitem__(self, index):\n",
        "        image_path = self.image_paths[index]\n",
        "        image = self.load_image(image_path=image_path)\n",
        "        image = self.transform(image=image)['image']\n",
        "        label = self.labels[index]\n",
        "        return image, label\n",
        "\n",
        "    def load_image(self, image_path):\n",
        "        image = np.array(Image.open(image_path).convert('RGB'))\n",
        "        return image\n",
        "    \n",
        "    def get_transform(self):\n",
        "        if self.dataset == 'train':\n",
        "            transform = albumentations.Compose([\n",
        "                albumentations.OneOf([\n",
        "                    albumentations.HorizontalFlip(p=1),\n",
        "                    albumentations.VerticalFlip(p=1),\n",
        "                    albumentations.Rotate(limit=360, p=1),                  \n",
        "                ], p=0.5),\n",
        "                albumentations.RandomCrop(height=self.image_size, width=self.image_size, p=0.5),\n",
        "                albumentations.ShiftScaleRotate(border_mode=cv2.BORDER_CONSTANT, scale_limit=0.3,\n",
        "                                                rotate_limit=(10, 30), p=0.5),\n",
        "                albumentations.MotionBlur(p=0.5),\n",
        "                albumentations.OpticalDistortion(p=0.5),\n",
        "                albumentations.GaussNoise(p=0.5),\n",
        "                albumentations.Resize(width=self.image_size, height=self.image_size,\n",
        "                                      interpolation=cv2.INTER_CUBIC),\n",
        "                albumentations.Normalize(mean=config.mean_imagenet, std=config.std_imagenet),\n",
        "                albumentations.pytorch.ToTensor(),             \n",
        "            ])\n",
        "        else:\n",
        "            transform = albumentations.Compose([\n",
        "                albumentations.Resize(width=self.image_size, height=self.image_size,\n",
        "                                      interpolation=cv2.INTER_CUBIC),\n",
        "                albumentations.Normalize(mean=config.mean_imagenet, std=config.std_imagenet),\n",
        "                albumentations.pytorch.ToTensor(),                               \n",
        "            ])\n",
        "        \n",
        "        return transform\n",
        "\n",
        "\n",
        "def get_data():\n",
        "    data = []\n",
        "    for cls in os.listdir(config.data_dir):\n",
        "        image_dir = os.path.join(config.data_dir, cls)\n",
        "        for image_name in os.listdir(image_dir):\n",
        "            data.append({\n",
        "                'image_path': os.path.join(image_dir, image_name),\n",
        "                'label': config.classes.index(cls)\n",
        "            })\n",
        "    df = pd.DataFrame(data)\n",
        "    df = df.sample(frac=1).reset_index(drop=True)\n",
        "    return df\n",
        "\n",
        "\n",
        "def get_dataloader():\n",
        "    df = get_data()\n",
        "    image_paths, labels = df['image_path'].tolist(), df['label'].tolist()\n",
        "    train_paths, test_paths, train_labels, test_labels = train_test_split(\n",
        "        image_paths, labels, test_size=0.2, stratify=labels, random_state=random_state\n",
        "    )\n",
        "    train_paths, val_paths, train_labels, val_labels = train_test_split(\n",
        "        train_paths, train_labels, test_size=0.2, stratify=train_labels, random_state=random_state\n",
        "    )\n",
        "\n",
        "    train_dataset = HorapaKapraoDataset(image_paths=train_paths, labels=train_labels,\n",
        "                                        image_size=config.image_size, dataset='train',\n",
        "                                        transform=None)\n",
        "    val_dataset   = HorapaKapraoDataset(image_paths=val_paths, labels=val_labels,\n",
        "                                        image_size=config.image_size, dataset='val',\n",
        "                                        transform=None)\n",
        "    test_dataset  = HorapaKapraoDataset(image_paths=test_paths, labels=test_labels,\n",
        "                                        image_size=config.image_size, dataset='test',\n",
        "                                        transform=None)\n",
        "    train_dataloader = DataLoader(dataset=train_dataset, batch_size=config.batch_size,\n",
        "                                  shuffle=True, pin_memory=True)\n",
        "    val_dataloader   = DataLoader(dataset=val_dataset, batch_size=config.batch_size,\n",
        "                                  shuffle=False, pin_memory=True)\n",
        "    test_dataloader  = DataLoader(dataset=test_dataset, batch_size=1,\n",
        "                                  shuffle=False, pin_memory=True)\n",
        "    return train_dataloader, val_dataloader, test_dataloader"
      ],
      "metadata": {
        "id": "uw_uQHmUTH6F"
      },
      "execution_count": 28,
      "outputs": []
    },
    {
      "cell_type": "markdown",
      "source": [
        "# Model"
      ],
      "metadata": {
        "id": "pUbTiLT-iy4p"
      }
    },
    {
      "cell_type": "code",
      "source": [
        "class Model(nn.Module):\n",
        "\n",
        "    def __init__(self, model_name):\n",
        "        super(Model, self).__init__()\n",
        "\n",
        "        self.cnn = timm.create_model(model_name, pretrained=True)\n",
        "\n",
        "        if model_name in ['tf_efficientnetv2_s', 'tf_efficientnetv2_m', 'tf_efficientnetv2_l',\n",
        "                          'tf_efficientnetv2_xl_in21k']:\n",
        "            in_features = 1280\n",
        "        elif model_name in ['tf_efficientnetv2_b3']:\n",
        "            in_features = 1536\n",
        "        elif 'convnext' in model_name:\n",
        "            in_features = 2048\n",
        "        elif model_name in ['vit_base_patch16_224']:\n",
        "            in_features = 768\n",
        "        \n",
        "        if 'convnext' in model_name:\n",
        "            self.cnn.head.fc = nn.Linear(in_features=in_features, out_features=config.num_classes)\n",
        "        elif 'tf_efficientnetv2' in model_name:\n",
        "            self.cnn.classifier = nn.Linear(in_features=in_features, out_features=config.num_classes)\n",
        "        elif 'vit' in model_name:\n",
        "            self.head = nn.Linear(in_features=in_features, out_features=config.num_classes)\n",
        "\n",
        "    def forward(self, x):\n",
        "        x = self.cnn(x)\n",
        "        return x\n",
        "    \n",
        "    def freeze(self):\n",
        "        for name, parameter in self.named_parameters():\n",
        "            if not 'classifier' in name:\n",
        "                parameter.requires_grad = False\n",
        "\n",
        "    def unfreeze(self):\n",
        "        for parameter in self.parameters():\n",
        "            parameter.requires_grad = True"
      ],
      "metadata": {
        "id": "fbLAtL15U35N"
      },
      "execution_count": 29,
      "outputs": []
    },
    {
      "cell_type": "markdown",
      "source": [
        "# Trainer"
      ],
      "metadata": {
        "id": "jFerybI1i0Yw"
      }
    },
    {
      "cell_type": "code",
      "source": [
        "def accuracy(y_pred, y_true):\n",
        "    y_pred = nn.functional.softmax(y_pred, dim=1)\n",
        "    _, top_class = y_pred.topk(1, dim=1)\n",
        "    equals = top_class == y_true.view(*top_class.shape)\n",
        "    return torch.sum(equals.type(torch.FloatTensor))\n",
        "\n",
        "\n",
        "class Trainer:\n",
        "\n",
        "    def __init__(self, criterion, optimizer, scheduler=None):\n",
        "        self.criterion = criterion\n",
        "        self.optimizer = optimizer\n",
        "        self.scheduler = scheduler\n",
        "        self.device = torch.device('cuda' if torch.cuda.is_available() else 'cpu')\n",
        "        print(f'Device: {self.device}')\n",
        "\n",
        "    def train_batch_loop(self, model, dataloader):\n",
        "        train_loss = 0.0\n",
        "        train_acc  = 0.0\n",
        "\n",
        "        for inputs, labels in tqdm(dataloader):\n",
        "            inputs, labels = inputs.to(self.device), labels.to(self.device)\n",
        "\n",
        "            logits = model(inputs)\n",
        "\n",
        "            loss = self.criterion(logits, labels)\n",
        "\n",
        "            self.optimizer.zero_grad()\n",
        "            loss.backward()\n",
        "            self.optimizer.step()\n",
        "\n",
        "            train_loss += loss.item()\n",
        "            train_acc += accuracy(logits, labels)\n",
        "        \n",
        "        return train_loss / len(dataloader), train_acc / len(dataloader.dataset)\n",
        "\n",
        "    def valid_batch_loop(self, model, dataloader):\n",
        "        val_loss = 0.0\n",
        "        val_acc  = 0.0\n",
        "\n",
        "        with torch.no_grad():\n",
        "            for inputs, labels in tqdm(dataloader):\n",
        "                inputs, labels = inputs.to(self.device), labels.to(self.device)\n",
        "\n",
        "                logits = model(inputs)\n",
        "\n",
        "                loss = self.criterion(logits, labels)\n",
        "\n",
        "                val_loss += loss.item()\n",
        "                val_acc += accuracy(logits, labels)\n",
        "          \n",
        "        return val_loss / len(dataloader), val_acc / len(dataloader.dataset)\n",
        "\n",
        "    def train(self, model, train_dataloader, val_dataloader, epochs, save_weights_path='model.pt'):\n",
        "        model = nn.DataParallel(model)\n",
        "        model.to(self.device)\n",
        "\n",
        "        val_min_loss = np.Inf\n",
        "\n",
        "        for epoch in range(epochs):\n",
        "            model.train()\n",
        "            train_loss, train_acc = self.train_batch_loop(model=model, dataloader=train_dataloader)\n",
        "\n",
        "            model.eval()\n",
        "            val_loss, val_acc = self.valid_batch_loop(model=model, dataloader=val_dataloader)\n",
        "\n",
        "            if self.scheduler is not None:\n",
        "                self.scheduler.step(val_loss)\n",
        "\n",
        "            if val_loss <= val_min_loss:\n",
        "                print('val_loss improved, saving model weight to {}'.format(save_weights_path))\n",
        "                torch.save(model.module.state_dict(), save_weights_path)\n",
        "                val_min_loss = val_loss\n",
        "\n",
        "            print('Epoch : {}'.format(epoch+1))\n",
        "            print('   train_loss : {:.6f} train_acc : {:.6f}'.format(train_loss, train_acc))\n",
        "            print('   val_loss   : {:.6f} val_acc   : {:.6f}'.format(val_loss, val_acc))"
      ],
      "metadata": {
        "id": "uXZXQI2kXLPF"
      },
      "execution_count": 30,
      "outputs": []
    },
    {
      "cell_type": "code",
      "source": [
        "train_dataloader, val_dataloader, test_dataloader = get_dataloader()\n",
        "\n",
        "model = Model(model_name=config.model_name)\n",
        "\n",
        "optimizer = torch.optim.Adam(params=model.parameters(), lr=config.lr)\n",
        "criterion = nn.CrossEntropyLoss()\n",
        "scheduler = torch.optim.lr_scheduler.ExponentialLR(optimizer=optimizer, gamma=config.gamma)\n",
        "\n",
        "trainer = Trainer(criterion=criterion, optimizer=optimizer, scheduler=scheduler)\n",
        "trainer.train(model=model, train_dataloader=train_dataloader, val_dataloader=val_dataloader, \n",
        "              epochs=20, save_weights_path=f'{config.model_name}.pt')"
      ],
      "metadata": {
        "colab": {
          "base_uri": "https://localhost:8080/",
          "height": 1000
        },
        "id": "jVdqhumhXO2W",
        "outputId": "915bdeb2-f953-48b2-c177-b06b1640bec9"
      },
      "execution_count": 31,
      "outputs": [
        {
          "output_type": "stream",
          "name": "stdout",
          "text": [
            "Device: cuda\n"
          ]
        },
        {
          "output_type": "stream",
          "name": "stderr",
          "text": [
            "100%|██████████| 22/22 [04:47<00:00, 13.05s/it]\n",
            "100%|██████████| 6/6 [00:20<00:00,  3.46s/it]\n",
            "/usr/local/lib/python3.7/dist-packages/torch/optim/lr_scheduler.py:156: UserWarning: The epoch parameter in `scheduler.step()` was not necessary and is being deprecated where possible. Please use `scheduler.step()` to step the scheduler. During the deprecation, if epoch is different from None, the closed form is used instead of the new chainable form, where available. Please open an issue if you are unable to replicate your use case: https://github.com/pytorch/pytorch/issues/new/choose.\n",
            "  warnings.warn(EPOCH_DEPRECATION_WARNING, UserWarning)\n"
          ]
        },
        {
          "output_type": "stream",
          "name": "stdout",
          "text": [
            "val_loss improved, saving model weight to tf_efficientnetv2_s.pt\n",
            "Epoch : 1\n",
            "   train_loss : 0.670756 train_acc : 0.561404\n",
            "   val_loss   : 0.457914 val_acc   : 0.941860\n"
          ]
        },
        {
          "output_type": "stream",
          "name": "stderr",
          "text": [
            "100%|██████████| 22/22 [04:41<00:00, 12.82s/it]\n",
            "100%|██████████| 6/6 [00:20<00:00,  3.42s/it]\n"
          ]
        },
        {
          "output_type": "stream",
          "name": "stdout",
          "text": [
            "val_loss improved, saving model weight to tf_efficientnetv2_s.pt\n",
            "Epoch : 2\n",
            "   train_loss : 0.532995 train_acc : 0.757310\n",
            "   val_loss   : 0.292707 val_acc   : 0.988372\n"
          ]
        },
        {
          "output_type": "stream",
          "name": "stderr",
          "text": [
            "100%|██████████| 22/22 [03:55<00:00, 10.69s/it]\n",
            "100%|██████████| 6/6 [00:20<00:00,  3.41s/it]\n"
          ]
        },
        {
          "output_type": "stream",
          "name": "stdout",
          "text": [
            "val_loss improved, saving model weight to tf_efficientnetv2_s.pt\n",
            "Epoch : 3\n",
            "   train_loss : 0.422750 train_acc : 0.868421\n",
            "   val_loss   : 0.245748 val_acc   : 0.976744\n"
          ]
        },
        {
          "output_type": "stream",
          "name": "stderr",
          "text": [
            "100%|██████████| 22/22 [04:26<00:00, 12.12s/it]\n",
            "100%|██████████| 6/6 [00:20<00:00,  3.39s/it]\n"
          ]
        },
        {
          "output_type": "stream",
          "name": "stdout",
          "text": [
            "val_loss improved, saving model weight to tf_efficientnetv2_s.pt\n",
            "Epoch : 4\n",
            "   train_loss : 0.344481 train_acc : 0.885965\n",
            "   val_loss   : 0.142840 val_acc   : 1.000000\n"
          ]
        },
        {
          "output_type": "stream",
          "name": "stderr",
          "text": [
            "100%|██████████| 22/22 [03:51<00:00, 10.51s/it]\n",
            "100%|██████████| 6/6 [00:20<00:00,  3.38s/it]\n"
          ]
        },
        {
          "output_type": "stream",
          "name": "stdout",
          "text": [
            "val_loss improved, saving model weight to tf_efficientnetv2_s.pt\n",
            "Epoch : 5\n",
            "   train_loss : 0.238186 train_acc : 0.923977\n",
            "   val_loss   : 0.087999 val_acc   : 1.000000\n"
          ]
        },
        {
          "output_type": "stream",
          "name": "stderr",
          "text": [
            "100%|██████████| 22/22 [04:16<00:00, 11.64s/it]\n",
            "100%|██████████| 6/6 [00:20<00:00,  3.41s/it]\n"
          ]
        },
        {
          "output_type": "stream",
          "name": "stdout",
          "text": [
            "val_loss improved, saving model weight to tf_efficientnetv2_s.pt\n",
            "Epoch : 6\n",
            "   train_loss : 0.227100 train_acc : 0.929825\n",
            "   val_loss   : 0.051217 val_acc   : 1.000000\n"
          ]
        },
        {
          "output_type": "stream",
          "name": "stderr",
          "text": [
            "100%|██████████| 22/22 [04:34<00:00, 12.49s/it]\n",
            "100%|██████████| 6/6 [00:22<00:00,  3.80s/it]\n"
          ]
        },
        {
          "output_type": "stream",
          "name": "stdout",
          "text": [
            "val_loss improved, saving model weight to tf_efficientnetv2_s.pt\n",
            "Epoch : 7\n",
            "   train_loss : 0.228031 train_acc : 0.918129\n",
            "   val_loss   : 0.049215 val_acc   : 1.000000\n"
          ]
        },
        {
          "output_type": "stream",
          "name": "stderr",
          "text": [
            "100%|██████████| 22/22 [04:55<00:00, 13.42s/it]\n",
            "100%|██████████| 6/6 [00:27<00:00,  4.62s/it]\n"
          ]
        },
        {
          "output_type": "stream",
          "name": "stdout",
          "text": [
            "val_loss improved, saving model weight to tf_efficientnetv2_s.pt\n",
            "Epoch : 8\n",
            "   train_loss : 0.231167 train_acc : 0.909357\n",
            "   val_loss   : 0.034278 val_acc   : 1.000000\n"
          ]
        },
        {
          "output_type": "stream",
          "name": "stderr",
          "text": [
            "  0%|          | 0/22 [00:06<?, ?it/s]\n"
          ]
        },
        {
          "output_type": "error",
          "ename": "KeyboardInterrupt",
          "evalue": "ignored",
          "traceback": [
            "\u001b[0;31m---------------------------------------------------------------------------\u001b[0m",
            "\u001b[0;31mKeyboardInterrupt\u001b[0m                         Traceback (most recent call last)",
            "\u001b[0;32m<ipython-input-31-2e8e2e8444de>\u001b[0m in \u001b[0;36m<module>\u001b[0;34m()\u001b[0m\n\u001b[1;32m      9\u001b[0m \u001b[0mtrainer\u001b[0m \u001b[0;34m=\u001b[0m \u001b[0mTrainer\u001b[0m\u001b[0;34m(\u001b[0m\u001b[0mcriterion\u001b[0m\u001b[0;34m=\u001b[0m\u001b[0mcriterion\u001b[0m\u001b[0;34m,\u001b[0m \u001b[0moptimizer\u001b[0m\u001b[0;34m=\u001b[0m\u001b[0moptimizer\u001b[0m\u001b[0;34m,\u001b[0m \u001b[0mscheduler\u001b[0m\u001b[0;34m=\u001b[0m\u001b[0mscheduler\u001b[0m\u001b[0;34m)\u001b[0m\u001b[0;34m\u001b[0m\u001b[0;34m\u001b[0m\u001b[0m\n\u001b[1;32m     10\u001b[0m trainer.train(model=model, train_dataloader=train_dataloader, val_dataloader=val_dataloader, \n\u001b[0;32m---> 11\u001b[0;31m               epochs=20, save_weights_path=f'{config.model_name}.pt')\n\u001b[0m",
            "\u001b[0;32m<ipython-input-30-bd64dcad85cc>\u001b[0m in \u001b[0;36mtrain\u001b[0;34m(self, model, train_dataloader, val_dataloader, epochs, save_weights_path)\u001b[0m\n\u001b[1;32m     60\u001b[0m         \u001b[0;32mfor\u001b[0m \u001b[0mepoch\u001b[0m \u001b[0;32min\u001b[0m \u001b[0mrange\u001b[0m\u001b[0;34m(\u001b[0m\u001b[0mepochs\u001b[0m\u001b[0;34m)\u001b[0m\u001b[0;34m:\u001b[0m\u001b[0;34m\u001b[0m\u001b[0;34m\u001b[0m\u001b[0m\n\u001b[1;32m     61\u001b[0m             \u001b[0mmodel\u001b[0m\u001b[0;34m.\u001b[0m\u001b[0mtrain\u001b[0m\u001b[0;34m(\u001b[0m\u001b[0;34m)\u001b[0m\u001b[0;34m\u001b[0m\u001b[0;34m\u001b[0m\u001b[0m\n\u001b[0;32m---> 62\u001b[0;31m             \u001b[0mtrain_loss\u001b[0m\u001b[0;34m,\u001b[0m \u001b[0mtrain_acc\u001b[0m \u001b[0;34m=\u001b[0m \u001b[0mself\u001b[0m\u001b[0;34m.\u001b[0m\u001b[0mtrain_batch_loop\u001b[0m\u001b[0;34m(\u001b[0m\u001b[0mmodel\u001b[0m\u001b[0;34m=\u001b[0m\u001b[0mmodel\u001b[0m\u001b[0;34m,\u001b[0m \u001b[0mdataloader\u001b[0m\u001b[0;34m=\u001b[0m\u001b[0mtrain_dataloader\u001b[0m\u001b[0;34m)\u001b[0m\u001b[0;34m\u001b[0m\u001b[0;34m\u001b[0m\u001b[0m\n\u001b[0m\u001b[1;32m     63\u001b[0m \u001b[0;34m\u001b[0m\u001b[0m\n\u001b[1;32m     64\u001b[0m             \u001b[0mmodel\u001b[0m\u001b[0;34m.\u001b[0m\u001b[0meval\u001b[0m\u001b[0;34m(\u001b[0m\u001b[0;34m)\u001b[0m\u001b[0;34m\u001b[0m\u001b[0;34m\u001b[0m\u001b[0m\n",
            "\u001b[0;32m<ipython-input-30-bd64dcad85cc>\u001b[0m in \u001b[0;36mtrain_batch_loop\u001b[0;34m(self, model, dataloader)\u001b[0m\n\u001b[1;32m     19\u001b[0m         \u001b[0mtrain_acc\u001b[0m  \u001b[0;34m=\u001b[0m \u001b[0;36m0.0\u001b[0m\u001b[0;34m\u001b[0m\u001b[0;34m\u001b[0m\u001b[0m\n\u001b[1;32m     20\u001b[0m \u001b[0;34m\u001b[0m\u001b[0m\n\u001b[0;32m---> 21\u001b[0;31m         \u001b[0;32mfor\u001b[0m \u001b[0minputs\u001b[0m\u001b[0;34m,\u001b[0m \u001b[0mlabels\u001b[0m \u001b[0;32min\u001b[0m \u001b[0mtqdm\u001b[0m\u001b[0;34m(\u001b[0m\u001b[0mdataloader\u001b[0m\u001b[0;34m)\u001b[0m\u001b[0;34m:\u001b[0m\u001b[0;34m\u001b[0m\u001b[0;34m\u001b[0m\u001b[0m\n\u001b[0m\u001b[1;32m     22\u001b[0m             \u001b[0minputs\u001b[0m\u001b[0;34m,\u001b[0m \u001b[0mlabels\u001b[0m \u001b[0;34m=\u001b[0m \u001b[0minputs\u001b[0m\u001b[0;34m.\u001b[0m\u001b[0mto\u001b[0m\u001b[0;34m(\u001b[0m\u001b[0mself\u001b[0m\u001b[0;34m.\u001b[0m\u001b[0mdevice\u001b[0m\u001b[0;34m)\u001b[0m\u001b[0;34m,\u001b[0m \u001b[0mlabels\u001b[0m\u001b[0;34m.\u001b[0m\u001b[0mto\u001b[0m\u001b[0;34m(\u001b[0m\u001b[0mself\u001b[0m\u001b[0;34m.\u001b[0m\u001b[0mdevice\u001b[0m\u001b[0;34m)\u001b[0m\u001b[0;34m\u001b[0m\u001b[0;34m\u001b[0m\u001b[0m\n\u001b[1;32m     23\u001b[0m \u001b[0;34m\u001b[0m\u001b[0m\n",
            "\u001b[0;32m/usr/local/lib/python3.7/dist-packages/tqdm/std.py\u001b[0m in \u001b[0;36m__iter__\u001b[0;34m(self)\u001b[0m\n\u001b[1;32m   1193\u001b[0m \u001b[0;34m\u001b[0m\u001b[0m\n\u001b[1;32m   1194\u001b[0m         \u001b[0;32mtry\u001b[0m\u001b[0;34m:\u001b[0m\u001b[0;34m\u001b[0m\u001b[0;34m\u001b[0m\u001b[0m\n\u001b[0;32m-> 1195\u001b[0;31m             \u001b[0;32mfor\u001b[0m \u001b[0mobj\u001b[0m \u001b[0;32min\u001b[0m \u001b[0miterable\u001b[0m\u001b[0;34m:\u001b[0m\u001b[0;34m\u001b[0m\u001b[0;34m\u001b[0m\u001b[0m\n\u001b[0m\u001b[1;32m   1196\u001b[0m                 \u001b[0;32myield\u001b[0m \u001b[0mobj\u001b[0m\u001b[0;34m\u001b[0m\u001b[0;34m\u001b[0m\u001b[0m\n\u001b[1;32m   1197\u001b[0m                 \u001b[0;31m# Update and possibly print the progressbar.\u001b[0m\u001b[0;34m\u001b[0m\u001b[0;34m\u001b[0m\u001b[0;34m\u001b[0m\u001b[0m\n",
            "\u001b[0;32m/usr/local/lib/python3.7/dist-packages/torch/utils/data/dataloader.py\u001b[0m in \u001b[0;36m__next__\u001b[0;34m(self)\u001b[0m\n\u001b[1;32m    528\u001b[0m             \u001b[0;32mif\u001b[0m \u001b[0mself\u001b[0m\u001b[0;34m.\u001b[0m\u001b[0m_sampler_iter\u001b[0m \u001b[0;32mis\u001b[0m \u001b[0;32mNone\u001b[0m\u001b[0;34m:\u001b[0m\u001b[0;34m\u001b[0m\u001b[0;34m\u001b[0m\u001b[0m\n\u001b[1;32m    529\u001b[0m                 \u001b[0mself\u001b[0m\u001b[0;34m.\u001b[0m\u001b[0m_reset\u001b[0m\u001b[0;34m(\u001b[0m\u001b[0;34m)\u001b[0m\u001b[0;34m\u001b[0m\u001b[0;34m\u001b[0m\u001b[0m\n\u001b[0;32m--> 530\u001b[0;31m             \u001b[0mdata\u001b[0m \u001b[0;34m=\u001b[0m \u001b[0mself\u001b[0m\u001b[0;34m.\u001b[0m\u001b[0m_next_data\u001b[0m\u001b[0;34m(\u001b[0m\u001b[0;34m)\u001b[0m\u001b[0;34m\u001b[0m\u001b[0;34m\u001b[0m\u001b[0m\n\u001b[0m\u001b[1;32m    531\u001b[0m             \u001b[0mself\u001b[0m\u001b[0;34m.\u001b[0m\u001b[0m_num_yielded\u001b[0m \u001b[0;34m+=\u001b[0m \u001b[0;36m1\u001b[0m\u001b[0;34m\u001b[0m\u001b[0;34m\u001b[0m\u001b[0m\n\u001b[1;32m    532\u001b[0m             \u001b[0;32mif\u001b[0m \u001b[0mself\u001b[0m\u001b[0;34m.\u001b[0m\u001b[0m_dataset_kind\u001b[0m \u001b[0;34m==\u001b[0m \u001b[0m_DatasetKind\u001b[0m\u001b[0;34m.\u001b[0m\u001b[0mIterable\u001b[0m \u001b[0;32mand\u001b[0m\u001b[0;31m \u001b[0m\u001b[0;31m\\\u001b[0m\u001b[0;34m\u001b[0m\u001b[0;34m\u001b[0m\u001b[0m\n",
            "\u001b[0;32m/usr/local/lib/python3.7/dist-packages/torch/utils/data/dataloader.py\u001b[0m in \u001b[0;36m_next_data\u001b[0;34m(self)\u001b[0m\n\u001b[1;32m    568\u001b[0m     \u001b[0;32mdef\u001b[0m \u001b[0m_next_data\u001b[0m\u001b[0;34m(\u001b[0m\u001b[0mself\u001b[0m\u001b[0;34m)\u001b[0m\u001b[0;34m:\u001b[0m\u001b[0;34m\u001b[0m\u001b[0;34m\u001b[0m\u001b[0m\n\u001b[1;32m    569\u001b[0m         \u001b[0mindex\u001b[0m \u001b[0;34m=\u001b[0m \u001b[0mself\u001b[0m\u001b[0;34m.\u001b[0m\u001b[0m_next_index\u001b[0m\u001b[0;34m(\u001b[0m\u001b[0;34m)\u001b[0m  \u001b[0;31m# may raise StopIteration\u001b[0m\u001b[0;34m\u001b[0m\u001b[0;34m\u001b[0m\u001b[0m\n\u001b[0;32m--> 570\u001b[0;31m         \u001b[0mdata\u001b[0m \u001b[0;34m=\u001b[0m \u001b[0mself\u001b[0m\u001b[0;34m.\u001b[0m\u001b[0m_dataset_fetcher\u001b[0m\u001b[0;34m.\u001b[0m\u001b[0mfetch\u001b[0m\u001b[0;34m(\u001b[0m\u001b[0mindex\u001b[0m\u001b[0;34m)\u001b[0m  \u001b[0;31m# may raise StopIteration\u001b[0m\u001b[0;34m\u001b[0m\u001b[0;34m\u001b[0m\u001b[0m\n\u001b[0m\u001b[1;32m    571\u001b[0m         \u001b[0;32mif\u001b[0m \u001b[0mself\u001b[0m\u001b[0;34m.\u001b[0m\u001b[0m_pin_memory\u001b[0m\u001b[0;34m:\u001b[0m\u001b[0;34m\u001b[0m\u001b[0;34m\u001b[0m\u001b[0m\n\u001b[1;32m    572\u001b[0m             \u001b[0mdata\u001b[0m \u001b[0;34m=\u001b[0m \u001b[0m_utils\u001b[0m\u001b[0;34m.\u001b[0m\u001b[0mpin_memory\u001b[0m\u001b[0;34m.\u001b[0m\u001b[0mpin_memory\u001b[0m\u001b[0;34m(\u001b[0m\u001b[0mdata\u001b[0m\u001b[0;34m)\u001b[0m\u001b[0;34m\u001b[0m\u001b[0;34m\u001b[0m\u001b[0m\n",
            "\u001b[0;32m/usr/local/lib/python3.7/dist-packages/torch/utils/data/_utils/fetch.py\u001b[0m in \u001b[0;36mfetch\u001b[0;34m(self, possibly_batched_index)\u001b[0m\n\u001b[1;32m     47\u001b[0m     \u001b[0;32mdef\u001b[0m \u001b[0mfetch\u001b[0m\u001b[0;34m(\u001b[0m\u001b[0mself\u001b[0m\u001b[0;34m,\u001b[0m \u001b[0mpossibly_batched_index\u001b[0m\u001b[0;34m)\u001b[0m\u001b[0;34m:\u001b[0m\u001b[0;34m\u001b[0m\u001b[0;34m\u001b[0m\u001b[0m\n\u001b[1;32m     48\u001b[0m         \u001b[0;32mif\u001b[0m \u001b[0mself\u001b[0m\u001b[0;34m.\u001b[0m\u001b[0mauto_collation\u001b[0m\u001b[0;34m:\u001b[0m\u001b[0;34m\u001b[0m\u001b[0;34m\u001b[0m\u001b[0m\n\u001b[0;32m---> 49\u001b[0;31m             \u001b[0mdata\u001b[0m \u001b[0;34m=\u001b[0m \u001b[0;34m[\u001b[0m\u001b[0mself\u001b[0m\u001b[0;34m.\u001b[0m\u001b[0mdataset\u001b[0m\u001b[0;34m[\u001b[0m\u001b[0midx\u001b[0m\u001b[0;34m]\u001b[0m \u001b[0;32mfor\u001b[0m \u001b[0midx\u001b[0m \u001b[0;32min\u001b[0m \u001b[0mpossibly_batched_index\u001b[0m\u001b[0;34m]\u001b[0m\u001b[0;34m\u001b[0m\u001b[0;34m\u001b[0m\u001b[0m\n\u001b[0m\u001b[1;32m     50\u001b[0m         \u001b[0;32melse\u001b[0m\u001b[0;34m:\u001b[0m\u001b[0;34m\u001b[0m\u001b[0;34m\u001b[0m\u001b[0m\n\u001b[1;32m     51\u001b[0m             \u001b[0mdata\u001b[0m \u001b[0;34m=\u001b[0m \u001b[0mself\u001b[0m\u001b[0;34m.\u001b[0m\u001b[0mdataset\u001b[0m\u001b[0;34m[\u001b[0m\u001b[0mpossibly_batched_index\u001b[0m\u001b[0;34m]\u001b[0m\u001b[0;34m\u001b[0m\u001b[0;34m\u001b[0m\u001b[0m\n",
            "\u001b[0;32m/usr/local/lib/python3.7/dist-packages/torch/utils/data/_utils/fetch.py\u001b[0m in \u001b[0;36m<listcomp>\u001b[0;34m(.0)\u001b[0m\n\u001b[1;32m     47\u001b[0m     \u001b[0;32mdef\u001b[0m \u001b[0mfetch\u001b[0m\u001b[0;34m(\u001b[0m\u001b[0mself\u001b[0m\u001b[0;34m,\u001b[0m \u001b[0mpossibly_batched_index\u001b[0m\u001b[0;34m)\u001b[0m\u001b[0;34m:\u001b[0m\u001b[0;34m\u001b[0m\u001b[0;34m\u001b[0m\u001b[0m\n\u001b[1;32m     48\u001b[0m         \u001b[0;32mif\u001b[0m \u001b[0mself\u001b[0m\u001b[0;34m.\u001b[0m\u001b[0mauto_collation\u001b[0m\u001b[0;34m:\u001b[0m\u001b[0;34m\u001b[0m\u001b[0;34m\u001b[0m\u001b[0m\n\u001b[0;32m---> 49\u001b[0;31m             \u001b[0mdata\u001b[0m \u001b[0;34m=\u001b[0m \u001b[0;34m[\u001b[0m\u001b[0mself\u001b[0m\u001b[0;34m.\u001b[0m\u001b[0mdataset\u001b[0m\u001b[0;34m[\u001b[0m\u001b[0midx\u001b[0m\u001b[0;34m]\u001b[0m \u001b[0;32mfor\u001b[0m \u001b[0midx\u001b[0m \u001b[0;32min\u001b[0m \u001b[0mpossibly_batched_index\u001b[0m\u001b[0;34m]\u001b[0m\u001b[0;34m\u001b[0m\u001b[0;34m\u001b[0m\u001b[0m\n\u001b[0m\u001b[1;32m     50\u001b[0m         \u001b[0;32melse\u001b[0m\u001b[0;34m:\u001b[0m\u001b[0;34m\u001b[0m\u001b[0;34m\u001b[0m\u001b[0m\n\u001b[1;32m     51\u001b[0m             \u001b[0mdata\u001b[0m \u001b[0;34m=\u001b[0m \u001b[0mself\u001b[0m\u001b[0;34m.\u001b[0m\u001b[0mdataset\u001b[0m\u001b[0;34m[\u001b[0m\u001b[0mpossibly_batched_index\u001b[0m\u001b[0;34m]\u001b[0m\u001b[0;34m\u001b[0m\u001b[0;34m\u001b[0m\u001b[0m\n",
            "\u001b[0;32m<ipython-input-28-dfba66f0d990>\u001b[0m in \u001b[0;36m__getitem__\u001b[0;34m(self, index)\u001b[0m\n\u001b[1;32m     17\u001b[0m     \u001b[0;32mdef\u001b[0m \u001b[0m__getitem__\u001b[0m\u001b[0;34m(\u001b[0m\u001b[0mself\u001b[0m\u001b[0;34m,\u001b[0m \u001b[0mindex\u001b[0m\u001b[0;34m)\u001b[0m\u001b[0;34m:\u001b[0m\u001b[0;34m\u001b[0m\u001b[0;34m\u001b[0m\u001b[0m\n\u001b[1;32m     18\u001b[0m         \u001b[0mimage_path\u001b[0m \u001b[0;34m=\u001b[0m \u001b[0mself\u001b[0m\u001b[0;34m.\u001b[0m\u001b[0mimage_paths\u001b[0m\u001b[0;34m[\u001b[0m\u001b[0mindex\u001b[0m\u001b[0;34m]\u001b[0m\u001b[0;34m\u001b[0m\u001b[0;34m\u001b[0m\u001b[0m\n\u001b[0;32m---> 19\u001b[0;31m         \u001b[0mimage\u001b[0m \u001b[0;34m=\u001b[0m \u001b[0mself\u001b[0m\u001b[0;34m.\u001b[0m\u001b[0mload_image\u001b[0m\u001b[0;34m(\u001b[0m\u001b[0mimage_path\u001b[0m\u001b[0;34m=\u001b[0m\u001b[0mimage_path\u001b[0m\u001b[0;34m)\u001b[0m\u001b[0;34m\u001b[0m\u001b[0;34m\u001b[0m\u001b[0m\n\u001b[0m\u001b[1;32m     20\u001b[0m         \u001b[0mimage\u001b[0m \u001b[0;34m=\u001b[0m \u001b[0mself\u001b[0m\u001b[0;34m.\u001b[0m\u001b[0mtransform\u001b[0m\u001b[0;34m(\u001b[0m\u001b[0mimage\u001b[0m\u001b[0;34m=\u001b[0m\u001b[0mimage\u001b[0m\u001b[0;34m)\u001b[0m\u001b[0;34m[\u001b[0m\u001b[0;34m'image'\u001b[0m\u001b[0;34m]\u001b[0m\u001b[0;34m\u001b[0m\u001b[0;34m\u001b[0m\u001b[0m\n\u001b[1;32m     21\u001b[0m         \u001b[0mlabel\u001b[0m \u001b[0;34m=\u001b[0m \u001b[0mself\u001b[0m\u001b[0;34m.\u001b[0m\u001b[0mlabels\u001b[0m\u001b[0;34m[\u001b[0m\u001b[0mindex\u001b[0m\u001b[0;34m]\u001b[0m\u001b[0;34m\u001b[0m\u001b[0;34m\u001b[0m\u001b[0m\n",
            "\u001b[0;32m<ipython-input-28-dfba66f0d990>\u001b[0m in \u001b[0;36mload_image\u001b[0;34m(self, image_path)\u001b[0m\n\u001b[1;32m     23\u001b[0m \u001b[0;34m\u001b[0m\u001b[0m\n\u001b[1;32m     24\u001b[0m     \u001b[0;32mdef\u001b[0m \u001b[0mload_image\u001b[0m\u001b[0;34m(\u001b[0m\u001b[0mself\u001b[0m\u001b[0;34m,\u001b[0m \u001b[0mimage_path\u001b[0m\u001b[0;34m)\u001b[0m\u001b[0;34m:\u001b[0m\u001b[0;34m\u001b[0m\u001b[0;34m\u001b[0m\u001b[0m\n\u001b[0;32m---> 25\u001b[0;31m         \u001b[0mimage\u001b[0m \u001b[0;34m=\u001b[0m \u001b[0mnp\u001b[0m\u001b[0;34m.\u001b[0m\u001b[0marray\u001b[0m\u001b[0;34m(\u001b[0m\u001b[0mImage\u001b[0m\u001b[0;34m.\u001b[0m\u001b[0mopen\u001b[0m\u001b[0;34m(\u001b[0m\u001b[0mimage_path\u001b[0m\u001b[0;34m)\u001b[0m\u001b[0;34m.\u001b[0m\u001b[0mconvert\u001b[0m\u001b[0;34m(\u001b[0m\u001b[0;34m'RGB'\u001b[0m\u001b[0;34m)\u001b[0m\u001b[0;34m)\u001b[0m\u001b[0;34m\u001b[0m\u001b[0;34m\u001b[0m\u001b[0m\n\u001b[0m\u001b[1;32m     26\u001b[0m         \u001b[0;32mreturn\u001b[0m \u001b[0mimage\u001b[0m\u001b[0;34m\u001b[0m\u001b[0;34m\u001b[0m\u001b[0m\n\u001b[1;32m     27\u001b[0m \u001b[0;34m\u001b[0m\u001b[0m\n",
            "\u001b[0;32m/usr/local/lib/python3.7/dist-packages/PIL/Image.py\u001b[0m in \u001b[0;36mconvert\u001b[0;34m(self, mode, matrix, dither, palette, colors)\u001b[0m\n\u001b[1;32m    899\u001b[0m         \"\"\"\n\u001b[1;32m    900\u001b[0m \u001b[0;34m\u001b[0m\u001b[0m\n\u001b[0;32m--> 901\u001b[0;31m         \u001b[0mself\u001b[0m\u001b[0;34m.\u001b[0m\u001b[0mload\u001b[0m\u001b[0;34m(\u001b[0m\u001b[0;34m)\u001b[0m\u001b[0;34m\u001b[0m\u001b[0;34m\u001b[0m\u001b[0m\n\u001b[0m\u001b[1;32m    902\u001b[0m \u001b[0;34m\u001b[0m\u001b[0m\n\u001b[1;32m    903\u001b[0m         \u001b[0;32mif\u001b[0m \u001b[0;32mnot\u001b[0m \u001b[0mmode\u001b[0m \u001b[0;32mand\u001b[0m \u001b[0mself\u001b[0m\u001b[0;34m.\u001b[0m\u001b[0mmode\u001b[0m \u001b[0;34m==\u001b[0m \u001b[0;34m\"P\"\u001b[0m\u001b[0;34m:\u001b[0m\u001b[0;34m\u001b[0m\u001b[0;34m\u001b[0m\u001b[0m\n",
            "\u001b[0;32m/usr/local/lib/python3.7/dist-packages/PIL/ImageFile.py\u001b[0m in \u001b[0;36mload\u001b[0;34m(self)\u001b[0m\n\u001b[1;32m    249\u001b[0m \u001b[0;34m\u001b[0m\u001b[0m\n\u001b[1;32m    250\u001b[0m                             \u001b[0mb\u001b[0m \u001b[0;34m=\u001b[0m \u001b[0mb\u001b[0m \u001b[0;34m+\u001b[0m \u001b[0ms\u001b[0m\u001b[0;34m\u001b[0m\u001b[0;34m\u001b[0m\u001b[0m\n\u001b[0;32m--> 251\u001b[0;31m                             \u001b[0mn\u001b[0m\u001b[0;34m,\u001b[0m \u001b[0merr_code\u001b[0m \u001b[0;34m=\u001b[0m \u001b[0mdecoder\u001b[0m\u001b[0;34m.\u001b[0m\u001b[0mdecode\u001b[0m\u001b[0;34m(\u001b[0m\u001b[0mb\u001b[0m\u001b[0;34m)\u001b[0m\u001b[0;34m\u001b[0m\u001b[0;34m\u001b[0m\u001b[0m\n\u001b[0m\u001b[1;32m    252\u001b[0m                             \u001b[0;32mif\u001b[0m \u001b[0mn\u001b[0m \u001b[0;34m<\u001b[0m \u001b[0;36m0\u001b[0m\u001b[0;34m:\u001b[0m\u001b[0;34m\u001b[0m\u001b[0;34m\u001b[0m\u001b[0m\n\u001b[1;32m    253\u001b[0m                                 \u001b[0;32mbreak\u001b[0m\u001b[0;34m\u001b[0m\u001b[0;34m\u001b[0m\u001b[0m\n",
            "\u001b[0;31mKeyboardInterrupt\u001b[0m: "
          ]
        }
      ]
    },
    {
      "cell_type": "markdown",
      "source": [
        "# Evaluation"
      ],
      "metadata": {
        "id": "qV9VUx6mi2m7"
      }
    },
    {
      "cell_type": "code",
      "source": [
        "model.load_state_dict(torch.load(f'{config.model_name}.pt'))\n",
        "model.eval()\n",
        "\n",
        "device = torch.device('cuda' if torch.cuda.is_available() else 'cpu')\n",
        "model.to(device)\n",
        "\n",
        "y_true = []\n",
        "y_pred = []\n",
        "\n",
        "with torch.no_grad():\n",
        "    for inputs, labels in tqdm(test_dataloader):\n",
        "        inputs, labels = inputs.to(device), labels.to(device)\n",
        "        logits = model(inputs)\n",
        "\n",
        "        y_true.append(config.classes[labels.item()])\n",
        "        _, predicted = torch.max(logits, 1)\n",
        "        y_pred.append(config.classes[predicted.item()])\n",
        "\n",
        "print(classification_report(y_true, y_pred, digits=4))\n",
        "plt.figure(figsize=(7, 5))\n",
        "ax = sns.heatmap(confusion_matrix(y_true, y_pred), annot=True, cmap='Blues')\n",
        "ax.set(xlabel='Predict', ylabel='Actual')\n",
        "plt.show()"
      ],
      "metadata": {
        "colab": {
          "base_uri": "https://localhost:8080/",
          "height": 517
        },
        "id": "q7t8qVL2XUNu",
        "outputId": "0597ca87-21a2-4282-c8b0-e565a404fe14"
      },
      "execution_count": 35,
      "outputs": [
        {
          "output_type": "stream",
          "name": "stderr",
          "text": [
            "100%|██████████| 107/107 [00:28<00:00,  3.72it/s]\n"
          ]
        },
        {
          "output_type": "stream",
          "name": "stdout",
          "text": [
            "              precision    recall  f1-score   support\n",
            "\n",
            "      horapa     1.0000    0.9890    0.9945        91\n",
            "      kaprao     0.9412    1.0000    0.9697        16\n",
            "\n",
            "    accuracy                         0.9907       107\n",
            "   macro avg     0.9706    0.9945    0.9821       107\n",
            "weighted avg     0.9912    0.9907    0.9908       107\n",
            "\n"
          ]
        },
        {
          "output_type": "display_data",
          "data": {
            "text/plain": [
              "<Figure size 504x360 with 2 Axes>"
            ],
            "image/png": "[encoded data removed]"
          },
          "metadata": {}
        }
      ]
    },
    {
      "cell_type": "code",
      "source": [
        ""
      ],
      "metadata": {
        "id": "V-ykb-I-hiiC"
      },
      "execution_count": null,
      "outputs": []
    }
  ]
}